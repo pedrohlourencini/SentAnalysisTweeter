{
  "nbformat": 4,
  "nbformat_minor": 0,
  "metadata": {
    "colab": {
      "name": "Sent-Analysis-101.ipynb",
      "version": "0.3.2",
      "provenance": [],
      "collapsed_sections": []
    },
    "kernelspec": {
      "name": "python3",
      "display_name": "Python 3"
    }
  },
  "cells": [
    {
      "metadata": {
        "id": "CQc_FBh7Fc-d",
        "colab_type": "code",
        "colab": {}
      },
      "cell_type": "code",
      "source": [
        "#Passo 1 - Dependencias\n",
        "!pip install pandas #para o pré-processamento dos dados\n",
        "!pip install tweepy #para acessar os dados do twitter\n",
        "!pip install vaderSentiment #para analise de sentimento"
      ],
      "execution_count": 0,
      "outputs": []
    },
    {
      "metadata": {
        "id": "nhWfzNOrFxEb",
        "colab_type": "code",
        "colab": {}
      },
      "cell_type": "code",
      "source": [
        "#Passo 2 - Importando as dependencias\n",
        "import tweepy\n",
        "from nltk.sentiment.vader import SentimentIntensityAnalyzer\n",
        "import pandas as pd"
      ],
      "execution_count": 0,
      "outputs": []
    },
    {
      "metadata": {
        "id": "tjP2vPuKGPR8",
        "colab_type": "code",
        "colab": {}
      },
      "cell_type": "code",
      "source": [
        "#Passo 3 - Definindo as variaveis de autenticação dda API do Twitter\n",
        "consumer_key = ''\n",
        "consumer_secret = ''\n",
        "acess_token = ''\n",
        "acess_token_secret = ''"
      ],
      "execution_count": 0,
      "outputs": []
    },
    {
      "metadata": {
        "id": "sjCtx3_xGx18",
        "colab_type": "code",
        "colab": {}
      },
      "cell_type": "code",
      "source": [
        "#Passo 4 - Autenticando no Twitter\n",
        "auth = tweepy.OAuthHandler(consumer_key, consumer_secret)\n",
        "auth.set_access_token(acess_token, acess_token_secret)\n",
        "\n",
        "api = tweepy.API(auth)"
      ],
      "execution_count": 0,
      "outputs": []
    },
    {
      "metadata": {
        "id": "YOnXh5J_IZdO",
        "colab_type": "code",
        "colab": {}
      },
      "cell_type": "code",
      "source": [
        "#Passo 5 - Definindo a função Cleaning\n",
        "\n",
        "import re\n",
        "\n",
        "def clean_tweet(tweet):\n",
        "  \"\"\"\n",
        "  Função que irá limpar o texto do tweet, removendo caracteres especiais e links\n",
        "  através de uma expressão regular.\n",
        "  \"\"\"\n",
        "  return ' '.join(re.sub(\"(@[A-Za-z0-9]+)|([^0-9A-Za-z \\t])|(\\w+:\\/\\/\\S+)\", \" \", tweet).split())"
      ],
      "execution_count": 0,
      "outputs": []
    },
    {
      "metadata": {
        "id": "IQK1m0d3Je7N",
        "colab_type": "code",
        "colab": {}
      },
      "cell_type": "code",
      "source": [
        "#Passo 6  - Encontrando temas relacionados\n",
        "tweets = api.search('Messi', count=100, lang='en')"
      ],
      "execution_count": 0,
      "outputs": []
    },
    {
      "metadata": {
        "id": "RYUz-3k3ML82",
        "colab_type": "code",
        "colab": {}
      },
      "cell_type": "code",
      "source": [
        "#Criando um data frame no Pandas\n",
        "data = pd.DataFrame(data=[clean_tweet(tweet.text) for tweet in tweets], columns=['Tweets'])"
      ],
      "execution_count": 0,
      "outputs": []
    },
    {
      "metadata": {
        "id": "Ma4SzYkAMORT",
        "colab_type": "code",
        "colab": {}
      },
      "cell_type": "code",
      "source": [
        "#Exibindo os 10 primeiros registros\n",
        "data.head(10)"
      ],
      "execution_count": 0,
      "outputs": []
    },
    {
      "metadata": {
        "id": "7DyBcFBfJvVr",
        "colab_type": "code",
        "colab": {}
      },
      "cell_type": "code",
      "source": [
        "#gather lexicon data\n",
        "import nltk\n",
        "nltk.download('vader_lexicon')"
      ],
      "execution_count": 0,
      "outputs": []
    },
    {
      "metadata": {
        "id": "4F8iRrVnPTaW",
        "colab_type": "code",
        "colab": {}
      },
      "cell_type": "code",
      "source": [
        "#Passo 7 - Passa pelos Tweets para realizar a analise de sentimento\n",
        "\n",
        "sid = SentimentIntensityAnalyzer()\n",
        "\n",
        "list = []\n",
        "comp = []\n",
        "for index, row in data.iterrows():\n",
        "  ss = sid.polarity_scores(row[\"Tweets\"])\n",
        "  s1 = ss[\"compound\"]\n",
        "  list.append([ss,s1])\n",
        "  if ss[\"compound\"] == 0:      \n",
        "    comp.append(\"Neutral\")\n",
        "  elif ss [\"compound\"] > 0:\n",
        "    comp.append(\"Positive\")\n",
        "  else:\n",
        "    comp.append(\"Negative\")\n",
        "se = pd.Series(list)\n",
        "data['polarity'] = se.values\n",
        "data['Score'] = comp\n",
        "\n",
        "#exibindo os 100 primeiros valores do dataframe\n",
        "data.head(100)"
      ],
      "execution_count": 0,
      "outputs": []
    },
    {
      "metadata": {
        "id": "2HWyz6ncEx8C",
        "colab_type": "code",
        "colab": {}
      },
      "cell_type": "code",
      "source": [
        "#Gerando os valores p/ a altura das barras e a proporção\n",
        "neg = 0\n",
        "pos = 0\n",
        "neu = 0\n",
        "\n",
        "for i in comp:\n",
        "  if i == \"Negative\":\n",
        "    neg += 1\n",
        "  elif i == \"Positive\":\n",
        "    pos += 1\n",
        "  else:\n",
        "    neu += 1\n",
        "    \n",
        "negav = neg/len(comp)\n",
        "posav = pos/len(comp)\n",
        "neuav = neu/len(comp)\n",
        "\n",
        "print(neg)\n",
        "print(pos)\n",
        "print(neu)\n",
        "\n",
        "print(negav)\n",
        "print(posav)\n",
        "print(neuav)"
      ],
      "execution_count": 0,
      "outputs": []
    },
    {
      "metadata": {
        "id": "4bWgp8MtFppI",
        "colab_type": "code",
        "colab": {}
      },
      "cell_type": "code",
      "source": [
        "import matplotlib.pyplot as plt \n",
        "  \n",
        "#cordenadas x, lado esquerdo  \n",
        "left = ['Posit', 'Neutral','Negat'] \n",
        "  \n",
        "#altura das barras \n",
        "height = [pos, neu, neg] \n",
        "  \n",
        "#nomes dos labels \n",
        "tick_label = ['Positive', 'Neutral', 'Negative'] \n",
        "  \n",
        "#criando o gráfico de Barras\n",
        "plt.bar(left, height, tick_label = tick_label, \n",
        "        width = 0.3, color = ['blue', 'green', 'red']) \n",
        "  \n",
        "#nomeando o x-axis \n",
        "plt.xlabel('Polarity') \n",
        "#nomeado o  y-axis \n",
        "plt.ylabel('Frequency') \n",
        "#titulo \n",
        "plt.title('Messi, love or hate?') \n",
        "  \n",
        "#exibindo\n",
        "plt.show()"
      ],
      "execution_count": 0,
      "outputs": []
    }
  ]
}
